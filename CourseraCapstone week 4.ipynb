{
 "cells": [
  {
   "cell_type": "markdown",
   "metadata": {},
   "source": [
    "## Applied Data Science Capstone \n"
   ]
  },
  {
   "cell_type": "markdown",
   "metadata": {},
   "source": [
    "## Introduction/Business Problem\n",
    "### The scenario: you are an international tourist, you plan to visit Washington D.C. You want to visit some well-known landmarks, find good places to eat and avoid large crowds. What time of year would be the best time to go, what landmarks can you visit, where should you have dinner? These are all questions that our data analysis of Wikipedia scraping and Foursquare data can use. \n",
    "### While this information will help a tourist maximize their visit to Washington, other people could also benefit from this data analysis.  A local travel agency or even an airline company trying to predict when to schedule sales and promotions. This question may be important to even the Washington D.C city government, trying to predict high traffic areas and where to perhaps change zoning areas. This project can help many people. But ultimately, I want to be able to use the data to predict the optimal trip to Washington D.C \n",
    "## Data Description\n",
    "### This project gathering data from two major sources, Foursquare and Wikipedia. From Wikipedia we can scrape a list of Landmarks and places to visit in Washington D.C many of these pages also have latitude and longitude coordinates to use. \n",
    "### We then will gather from Foursquare what venues are also around the landmarks in D.C, since with my limited credentials I cannot get stats from those venues I am limited. However armed with the list of landmarks and nearby venues I should be able to perform some sort of clustering to figure out what are some of the best places to visit nearby. \n"
   ]
  },
  {
   "cell_type": "code",
   "execution_count": null,
   "metadata": {},
   "outputs": [],
   "source": []
  }
 ],
 "metadata": {
  "kernelspec": {
   "display_name": "Python 3",
   "language": "python",
   "name": "python3"
  },
  "language_info": {
   "codemirror_mode": {
    "name": "ipython",
    "version": 3
   },
   "file_extension": ".py",
   "mimetype": "text/x-python",
   "name": "python",
   "nbconvert_exporter": "python",
   "pygments_lexer": "ipython3",
   "version": "3.7.6"
  }
 },
 "nbformat": 4,
 "nbformat_minor": 4
}
